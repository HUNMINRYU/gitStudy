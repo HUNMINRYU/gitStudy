{
 "cells": [
  {
   "cell_type": "markdown",
   "id": "ab27573a",
   "metadata": {},
   "source": [
    "## 1.리스트\n",
    "- 파이썬의 자료형 중 하나\n",
    "- 순서가 있는(인덱스가 존재) 수정 가능한 객체의 집합\n",
    "- 대괄호 '[ ]'로 작성되어지고, 리스트 내부의 요소들은 콤마 ','로 구분\n",
    "- 추가, 수정, 삭제가 가능"
   ]
  },
  {
   "cell_type": "code",
   "execution_count": 3,
   "id": "adebfcb3",
   "metadata": {},
   "outputs": [],
   "source": [
    "#리스트 생성\n",
    "a = [1, 2, 3, 4]\n",
    "b = ['My', 'name', 'is', 'HM']\n",
    "c = []\n",
    "d = [1, 2, 'My', 'name']\n",
    "e = [1, 2, ['My', 'name'], 'is']"
   ]
  },
  {
   "cell_type": "markdown",
   "id": "4e13bcf9",
   "metadata": {},
   "source": [
    "### 1-1.리스트 인덱싱&슬라이싱\n",
    "- 인덱싱(indexing)  : 무엇(요소 하나)인가를 가리키다! \n",
    "- 슬라이싱(slicing) : 무엇(요소 여러개)인가를 잘라내다!"
   ]
  },
  {
   "cell_type": "code",
   "execution_count": 10,
   "id": "2f53e960",
   "metadata": {},
   "outputs": [
    {
     "data": {
      "text/plain": [
       "[2, 5, 7, 9, 10]"
      ]
     },
     "execution_count": 10,
     "metadata": {},
     "output_type": "execute_result"
    }
   ],
   "source": [
    "list1 = [2, 5, 7, 9, 10]\n",
    "list1"
   ]
  },
  {
   "cell_type": "code",
   "execution_count": 11,
   "id": "0dfd8d20",
   "metadata": {},
   "outputs": [
    {
     "data": {
      "text/plain": [
       "9"
      ]
     },
     "execution_count": 11,
     "metadata": {},
     "output_type": "execute_result"
    }
   ],
   "source": [
    "list1[3]"
   ]
  },
  {
   "cell_type": "code",
   "execution_count": 12,
   "id": "655ebdbd",
   "metadata": {},
   "outputs": [
    {
     "data": {
      "text/plain": [
       "[1, 2, 3, ['a', 'b', 'c']]"
      ]
     },
     "execution_count": 12,
     "metadata": {},
     "output_type": "execute_result"
    }
   ],
   "source": [
    "list2 = [1, 2, 3, ['a', 'b', 'c']]\n",
    "list2"
   ]
  },
  {
   "cell_type": "code",
   "execution_count": 19,
   "id": "c84607ff",
   "metadata": {},
   "outputs": [
    {
     "name": "stdout",
     "output_type": "stream",
     "text": [
      "b\n",
      "b\n"
     ]
    }
   ],
   "source": [
    "#'b'를 인덱싱 -> 한단계낮은 차원을 반환값으로 준다 (1차원->0차원) \n",
    "print(list2[3][1]) #2차원배열\n",
    "\n",
    "#temp 활용\n",
    "temp = list2[3]\n",
    "print(temp[1])"
   ]
  },
  {
   "cell_type": "code",
   "execution_count": 22,
   "id": "49aa1666",
   "metadata": {},
   "outputs": [
    {
     "name": "stdout",
     "output_type": "stream",
     "text": [
      "[1, 2]\n"
     ]
    }
   ],
   "source": [
    "#리스트 슬라이싱 -> 똑같은 차원을 반환값으로 준다 (1차원->1차원)\n",
    "#리스트[시작값:끝값]\n",
    "list3 = [0,1,2,3,4]\n",
    "print(list3[1:3])\n",
    "\n",
    "#인덱싱 반환 값의 차원   : 한 단계 더 낮은 차원\n",
    "#슬라이싱 반환 값의 차원 : 같은 차원 "
   ]
  },
  {
   "cell_type": "code",
   "execution_count": 23,
   "id": "ef2cceda",
   "metadata": {},
   "outputs": [
    {
     "data": {
      "text/plain": [
       "[1, 2, 3, 4, 5, 6]"
      ]
     },
     "execution_count": 23,
     "metadata": {},
     "output_type": "execute_result"
    }
   ],
   "source": [
    "#리스트 더하기\n",
    "#문자열 더하기처럼 이어붙여짐(값이 더해지지않음) => 더하려면 인덱싱\n",
    "list4 = [1,2,3]\n",
    "list5 = [4,5,6]\n",
    "\n",
    "list4 + list5"
   ]
  },
  {
   "cell_type": "markdown",
   "id": "81699aa7",
   "metadata": {},
   "source": [
    "### 1-2. 리스트 값 추가\n",
    "- append(값)           : 맨 뒤 인덱스에 값을 추가하는 기능\n",
    "- insert(인덱스, 값)   : 원하는 인덱스(위치)에 값을 추가하는 기능"
   ]
  },
  {
   "cell_type": "code",
   "execution_count": 26,
   "id": "4030ae91",
   "metadata": {},
   "outputs": [],
   "source": [
    "list6 = [0,1,2,3,4]\n",
    "list6.append(5)"
   ]
  },
  {
   "cell_type": "code",
   "execution_count": 27,
   "id": "661dda0a",
   "metadata": {},
   "outputs": [
    {
     "data": {
      "text/plain": [
       "[0, 1, 2, 3, 4, 5]"
      ]
     },
     "execution_count": 27,
     "metadata": {},
     "output_type": "execute_result"
    }
   ],
   "source": [
    "list6"
   ]
  },
  {
   "cell_type": "code",
   "execution_count": 28,
   "id": "3828b31e",
   "metadata": {},
   "outputs": [],
   "source": [
    "list6.insert(3, 10)"
   ]
  },
  {
   "cell_type": "code",
   "execution_count": 29,
   "id": "dfec50fb",
   "metadata": {},
   "outputs": [
    {
     "data": {
      "text/plain": [
       "[0, 1, 2, 10, 3, 4, 5]"
      ]
     },
     "execution_count": 29,
     "metadata": {},
     "output_type": "execute_result"
    }
   ],
   "source": [
    "list6"
   ]
  },
  {
   "cell_type": "markdown",
   "id": "bff2d10e",
   "metadata": {},
   "source": [
    "### 1-3. 리스트 값 수정\n",
    "- 수정을 하고자 하는 경우 → 접근(인덱싱) 후 변경(새로 대입)"
   ]
  },
  {
   "cell_type": "code",
   "execution_count": 31,
   "id": "b005a036",
   "metadata": {},
   "outputs": [],
   "source": [
    "#인덱싱으로 수정하기\n",
    "list6[3] = 3"
   ]
  },
  {
   "cell_type": "code",
   "execution_count": 32,
   "id": "c81ad366",
   "metadata": {},
   "outputs": [
    {
     "data": {
      "text/plain": [
       "[0, 1, 2, 3, 3, 4, 5]"
      ]
     },
     "execution_count": 32,
     "metadata": {},
     "output_type": "execute_result"
    }
   ],
   "source": [
    "list6"
   ]
  },
  {
   "cell_type": "code",
   "execution_count": 35,
   "id": "800aee2c",
   "metadata": {},
   "outputs": [],
   "source": [
    "#슬라이싱으로 수정하기\n",
    "# ※차원(자료형)을 맞춰줘야함\n",
    "list6[3:5] = [10]  "
   ]
  },
  {
   "cell_type": "code",
   "execution_count": 36,
   "id": "65e48f3a",
   "metadata": {},
   "outputs": [
    {
     "data": {
      "text/plain": [
       "[0, 1, 2, 10, 4, 5]"
      ]
     },
     "execution_count": 36,
     "metadata": {},
     "output_type": "execute_result"
    }
   ],
   "source": [
    "list6"
   ]
  },
  {
   "cell_type": "markdown",
   "id": "84986f6a",
   "metadata": {},
   "source": [
    "### 1-4. 리스트 값 삭제\n",
    "- del 객체   : 인덱싱/슬라이싱을 활용해서 삭제\n",
    "- remove(값) : 입력한 값을 찾아서 삭제"
   ]
  },
  {
   "cell_type": "code",
   "execution_count": 42,
   "id": "43f74587",
   "metadata": {},
   "outputs": [],
   "source": [
    "del list6[3]"
   ]
  },
  {
   "cell_type": "code",
   "execution_count": 43,
   "id": "bca07c4c",
   "metadata": {},
   "outputs": [
    {
     "data": {
      "text/plain": [
       "[0, 1, 2]"
      ]
     },
     "execution_count": 43,
     "metadata": {},
     "output_type": "execute_result"
    }
   ],
   "source": [
    "list6"
   ]
  },
  {
   "cell_type": "code",
   "execution_count": 44,
   "id": "418eb437",
   "metadata": {},
   "outputs": [],
   "source": [
    "list6.remove(1)"
   ]
  },
  {
   "cell_type": "code",
   "execution_count": 45,
   "id": "bbad5fff",
   "metadata": {},
   "outputs": [
    {
     "data": {
      "text/plain": [
       "[0, 2]"
      ]
     },
     "execution_count": 45,
     "metadata": {},
     "output_type": "execute_result"
    }
   ],
   "source": [
    "list6"
   ]
  },
  {
   "cell_type": "code",
   "execution_count": 46,
   "id": "9e5b39f3",
   "metadata": {},
   "outputs": [
    {
     "data": {
      "text/plain": [
       "['b', 'c', 'd', 'e']"
      ]
     },
     "execution_count": 46,
     "metadata": {},
     "output_type": "execute_result"
    }
   ],
   "source": [
    "list7 = ['a','b','c','d','e']\n",
    "list7.remove('a')\n",
    "list7"
   ]
  },
  {
   "cell_type": "markdown",
   "id": "349f2179",
   "metadata": {},
   "source": [
    "### 1-5. 리스트 정렬\n",
    "- sort()    : 오름차순으로 정렬\n",
    "- reverse() : 역순으로 정렬(내림차순이 아니라)"
   ]
  },
  {
   "cell_type": "code",
   "execution_count": 48,
   "id": "9565c354",
   "metadata": {},
   "outputs": [
    {
     "data": {
      "text/plain": [
       "[7, 4, 1, 4, 54, 6]"
      ]
     },
     "execution_count": 48,
     "metadata": {},
     "output_type": "execute_result"
    }
   ],
   "source": [
    "list8 = [7,4,1,4,54,6]\n",
    "list8"
   ]
  },
  {
   "cell_type": "code",
   "execution_count": 49,
   "id": "e0c3ece8",
   "metadata": {},
   "outputs": [],
   "source": [
    "#reverse : 역순으로 정렬 (내림차순이 아님)\n",
    "list8.reverse()"
   ]
  },
  {
   "cell_type": "code",
   "execution_count": 50,
   "id": "23574cc5",
   "metadata": {},
   "outputs": [
    {
     "data": {
      "text/plain": [
       "[6, 54, 4, 1, 4, 7]"
      ]
     },
     "execution_count": 50,
     "metadata": {},
     "output_type": "execute_result"
    }
   ],
   "source": [
    "list8"
   ]
  },
  {
   "cell_type": "code",
   "execution_count": 51,
   "id": "a0124b12",
   "metadata": {},
   "outputs": [],
   "source": [
    "#sort : 오름차순 정렬\n",
    "list8.sort()"
   ]
  },
  {
   "cell_type": "code",
   "execution_count": 52,
   "id": "c0a18eb2",
   "metadata": {},
   "outputs": [
    {
     "data": {
      "text/plain": [
       "[1, 4, 4, 6, 7, 54]"
      ]
     },
     "execution_count": 52,
     "metadata": {},
     "output_type": "execute_result"
    }
   ],
   "source": [
    "list8"
   ]
  },
  {
   "cell_type": "code",
   "execution_count": 53,
   "id": "82f82d78",
   "metadata": {},
   "outputs": [],
   "source": [
    "#내림차순으로 정렬하고 싶으면 sort()와 reverse()를 순서대로 사용\n",
    "list8.sort()\n",
    "list8.reverse()"
   ]
  },
  {
   "cell_type": "code",
   "execution_count": 54,
   "id": "a754528a",
   "metadata": {},
   "outputs": [
    {
     "data": {
      "text/plain": [
       "[54, 7, 6, 4, 4, 1]"
      ]
     },
     "execution_count": 54,
     "metadata": {},
     "output_type": "execute_result"
    }
   ],
   "source": [
    "list8"
   ]
  },
  {
   "cell_type": "code",
   "execution_count": 57,
   "id": "e9efa76a",
   "metadata": {},
   "outputs": [
    {
     "data": {
      "text/plain": [
       "6"
      ]
     },
     "execution_count": 57,
     "metadata": {},
     "output_type": "execute_result"
    }
   ],
   "source": [
    "#요소의 개수 확인\n",
    "#len(시퀀스 자료구조) : 요소 개수 반환\n",
    "len(list8)"
   ]
  },
  {
   "cell_type": "markdown",
   "id": "fdd1930c",
   "metadata": {},
   "source": [
    "## 2.튜플\n",
    "- 파이썬의 자료형 중 하나\n",
    "- 순서가 있는(인덱스가 존재) 수정 불가능한 객체의 집합\n",
    "- 소괄호 '()'로 작성되어지고, 요소들은 콤마 ','로 구분\n",
    "- 추가, 수정, 삭제가 불가능"
   ]
  },
  {
   "cell_type": "code",
   "execution_count": 59,
   "id": "59914769",
   "metadata": {},
   "outputs": [
    {
     "data": {
      "text/plain": [
       "(0, 1, 2, 3, ('a', 'b', 'c'), 5)"
      ]
     },
     "execution_count": 59,
     "metadata": {},
     "output_type": "execute_result"
    }
   ],
   "source": [
    "#튜플 생성\n",
    "tuple1 = (0,1,2,3,('a','b','c'),5)\n",
    "tuple1"
   ]
  },
  {
   "cell_type": "code",
   "execution_count": 62,
   "id": "e98293ab",
   "metadata": {},
   "outputs": [
    {
     "name": "stdout",
     "output_type": "stream",
     "text": [
      "2\n",
      "b\n",
      "(1, 2, 3)\n"
     ]
    }
   ],
   "source": [
    "#튜플 인덱싱/슬라이싱\n",
    "print(tuple1[2])\n",
    "print(tuple1[4][1])\n",
    "print(tuple1[1:4])"
   ]
  },
  {
   "cell_type": "code",
   "execution_count": 63,
   "id": "4da3d103",
   "metadata": {},
   "outputs": [
    {
     "data": {
      "text/plain": [
       "6"
      ]
     },
     "execution_count": 63,
     "metadata": {},
     "output_type": "execute_result"
    }
   ],
   "source": [
    "#요소 개수 확인\n",
    "len(tuple1)"
   ]
  },
  {
   "cell_type": "code",
   "execution_count": 64,
   "id": "d435f070",
   "metadata": {},
   "outputs": [
    {
     "ename": "AttributeError",
     "evalue": "'tuple' object has no attribute 'append'",
     "output_type": "error",
     "traceback": [
      "\u001b[1;31m---------------------------------------------------------------------------\u001b[0m",
      "\u001b[1;31mAttributeError\u001b[0m                            Traceback (most recent call last)",
      "Cell \u001b[1;32mIn[64], line 1\u001b[0m\n\u001b[1;32m----> 1\u001b[0m tuple1\u001b[38;5;241m.\u001b[39mappend(\u001b[38;5;241m1\u001b[39m)\n",
      "\u001b[1;31mAttributeError\u001b[0m: 'tuple' object has no attribute 'append'"
     ]
    }
   ],
   "source": [
    "#튜플은 추가, 수정, 삭제가 불가능하다!\n",
    "tuple1.append(1)"
   ]
  },
  {
   "cell_type": "code",
   "execution_count": null,
   "id": "f63026f5",
   "metadata": {},
   "outputs": [],
   "source": []
  },
  {
   "cell_type": "code",
   "execution_count": null,
   "id": "8a824b31",
   "metadata": {},
   "outputs": [],
   "source": []
  },
  {
   "cell_type": "code",
   "execution_count": null,
   "id": "814ed757",
   "metadata": {},
   "outputs": [],
   "source": []
  },
  {
   "cell_type": "code",
   "execution_count": null,
   "id": "c313d72c",
   "metadata": {},
   "outputs": [],
   "source": []
  },
  {
   "cell_type": "code",
   "execution_count": null,
   "id": "b2e2cc75",
   "metadata": {},
   "outputs": [],
   "source": []
  },
  {
   "cell_type": "code",
   "execution_count": null,
   "id": "a1260e3c",
   "metadata": {},
   "outputs": [],
   "source": []
  },
  {
   "cell_type": "code",
   "execution_count": null,
   "id": "e9ff4d4a",
   "metadata": {},
   "outputs": [],
   "source": []
  },
  {
   "cell_type": "code",
   "execution_count": null,
   "id": "0dbf3950",
   "metadata": {},
   "outputs": [],
   "source": []
  },
  {
   "cell_type": "code",
   "execution_count": null,
   "id": "488bc9c3",
   "metadata": {},
   "outputs": [],
   "source": []
  },
  {
   "cell_type": "code",
   "execution_count": null,
   "id": "757a814a",
   "metadata": {},
   "outputs": [],
   "source": []
  },
  {
   "cell_type": "code",
   "execution_count": null,
   "id": "8d95fe94",
   "metadata": {},
   "outputs": [],
   "source": []
  }
 ],
 "metadata": {
  "kernelspec": {
   "display_name": "Python 3 (ipykernel)",
   "language": "python",
   "name": "python3"
  },
  "language_info": {
   "codemirror_mode": {
    "name": "ipython",
    "version": 3
   },
   "file_extension": ".py",
   "mimetype": "text/x-python",
   "name": "python",
   "nbconvert_exporter": "python",
   "pygments_lexer": "ipython3",
   "version": "3.11.5"
  }
 },
 "nbformat": 4,
 "nbformat_minor": 5
}
