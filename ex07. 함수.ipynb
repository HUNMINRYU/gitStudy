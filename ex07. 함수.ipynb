{
 "cells": [
  {
   "cell_type": "markdown",
   "id": "429bbba5",
   "metadata": {},
   "source": [
    "## 함수(function)\n",
    "- 함수란?\n",
    "    - <b>호출</b> 될 때 <b>특정 기능</b>을 실행하는 <b>재사용 가능</b>한 코드블록\n",
    "    \n",
    "- 함수의 목적\n",
    "    - 반복적인 프로그래밍을 피할 수 있다\n",
    "    - 모듈화로 인해 전체적인 코드의 가독성이 좋아진다.\n",
    "    - 프로그램에 문제가 발생하거나, 기능의 변경이 필요할 때에도 손쉽게 유지보수 가능"
   ]
  },
  {
   "cell_type": "code",
   "execution_count": 3,
   "id": "b879bb26",
   "metadata": {},
   "outputs": [],
   "source": [
    "#함수정의\n",
    "def number_sum(num1, num2):\n",
    "    \"\"\"독스트링: 함수의 설명문 작성\n",
    "    숫자를 더하는 기능\"\"\"\n",
    "    result = num1 + num2\n",
    "    return result"
   ]
  },
  {
   "cell_type": "code",
   "execution_count": 2,
   "id": "54495419",
   "metadata": {},
   "outputs": [
    {
     "data": {
      "text/plain": [
       "13"
      ]
     },
     "execution_count": 2,
     "metadata": {},
     "output_type": "execute_result"
    }
   ],
   "source": [
    "n1 = 3\n",
    "n2 = 10\n",
    "\n",
    "number_sum(n1, n2)"
   ]
  },
  {
   "cell_type": "code",
   "execution_count": 6,
   "id": "7e89cf3f",
   "metadata": {},
   "outputs": [],
   "source": [
    "#함수의 기능\n",
    "#(*)가변 매개변수\n",
    "#함수 호출 시 몇개의 인수가 전달 될 지 알 수 없을때 \n",
    "#호출하는 사용자가 직접 매개변수의 개수를 정할 수 있도록 선언\n",
    "\n",
    "def add(*args):\n",
    "    result = sum(args)\n",
    "    return result"
   ]
  },
  {
   "cell_type": "code",
   "execution_count": 9,
   "id": "ab4789c1",
   "metadata": {},
   "outputs": [
    {
     "data": {
      "text/plain": [
       "16"
      ]
     },
     "execution_count": 9,
     "metadata": {},
     "output_type": "execute_result"
    }
   ],
   "source": [
    "add(1,2,3,5,5)"
   ]
  }
 ],
 "metadata": {
  "kernelspec": {
   "display_name": "Python 3 (ipykernel)",
   "language": "python",
   "name": "python3"
  },
  "language_info": {
   "codemirror_mode": {
    "name": "ipython",
    "version": 3
   },
   "file_extension": ".py",
   "mimetype": "text/x-python",
   "name": "python",
   "nbconvert_exporter": "python",
   "pygments_lexer": "ipython3",
   "version": "3.11.5"
  }
 },
 "nbformat": 4,
 "nbformat_minor": 5
}
