{
 "cells": [
  {
   "cell_type": "markdown",
   "id": "40088028",
   "metadata": {},
   "source": [
    "## 딕셔너리\n",
    "- dictionary(딕셔너리)는 단어 그대로 해석하면 사전이라는 뜻\n",
    "- key와 value값을 한쌍으로 갖는 자료구조"
   ]
  },
  {
   "cell_type": "code",
   "execution_count": 1,
   "id": "68af2cfb",
   "metadata": {},
   "outputs": [
    {
     "data": {
      "text/plain": [
       "{'name': 'BG', 'age': 20, 'phone': '010-1234-1234'}"
      ]
     },
     "execution_count": 1,
     "metadata": {},
     "output_type": "execute_result"
    }
   ],
   "source": [
    "dic = {'name': 'BG', 'age': 20, 'phone': '010-1234-1234'}\n",
    "dic"
   ]
  },
  {
   "cell_type": "code",
   "execution_count": 2,
   "id": "37b14068",
   "metadata": {},
   "outputs": [
    {
     "data": {
      "text/plain": [
       "dict"
      ]
     },
     "execution_count": 2,
     "metadata": {},
     "output_type": "execute_result"
    }
   ],
   "source": [
    "type(dic)"
   ]
  },
  {
   "cell_type": "markdown",
   "id": "bce03af2",
   "metadata": {},
   "source": [
    "###  딕셔너리 값 추가 및 수정"
   ]
  },
  {
   "cell_type": "code",
   "execution_count": 6,
   "id": "259f2af3",
   "metadata": {},
   "outputs": [
    {
     "data": {
      "text/plain": [
       "{'name': 'BG', 'age': 20, 'phone': '010-1234-1234', 'birth': '01/01'}"
      ]
     },
     "execution_count": 6,
     "metadata": {},
     "output_type": "execute_result"
    }
   ],
   "source": [
    "#dic['key'] = value\n",
    "dic['birth'] = '01/01'\n",
    "dic"
   ]
  },
  {
   "cell_type": "code",
   "execution_count": 7,
   "id": "f46a1137",
   "metadata": {},
   "outputs": [
    {
     "data": {
      "text/plain": [
       "{'name': 'BG', 'age': 21, 'phone': '010-1234-1234', 'birth': '01/01'}"
      ]
     },
     "execution_count": 7,
     "metadata": {},
     "output_type": "execute_result"
    }
   ],
   "source": [
    "dic['age'] = 21\n",
    "dic"
   ]
  },
  {
   "cell_type": "markdown",
   "id": "648ed519",
   "metadata": {},
   "source": [
    "###  딕셔너리 값 삭제"
   ]
  },
  {
   "cell_type": "code",
   "execution_count": 8,
   "id": "2ce19513",
   "metadata": {},
   "outputs": [
    {
     "data": {
      "text/plain": [
       "{'name': 'BG', 'age': 21, 'birth': '01/01'}"
      ]
     },
     "execution_count": 8,
     "metadata": {},
     "output_type": "execute_result"
    }
   ],
   "source": [
    "#del dic['key']\n",
    "del dic['phone']\n",
    "dic"
   ]
  },
  {
   "cell_type": "markdown",
   "id": "d044ece0",
   "metadata": {},
   "source": [
    "###  딕셔너리 값 인덱싱"
   ]
  },
  {
   "cell_type": "code",
   "execution_count": 12,
   "id": "91f82c15",
   "metadata": {
    "collapsed": true
   },
   "outputs": [
    {
     "ename": "KeyError",
     "evalue": "'phone'",
     "output_type": "error",
     "traceback": [
      "\u001b[1;31m---------------------------------------------------------------------------\u001b[0m",
      "\u001b[1;31mKeyError\u001b[0m                                  Traceback (most recent call last)",
      "Cell \u001b[1;32mIn[12], line 3\u001b[0m\n\u001b[0;32m      1\u001b[0m \u001b[38;5;66;03m#일반인덱싱\u001b[39;00m\n\u001b[0;32m      2\u001b[0m dic[\u001b[38;5;124m'\u001b[39m\u001b[38;5;124mname\u001b[39m\u001b[38;5;124m'\u001b[39m]\n\u001b[1;32m----> 3\u001b[0m dic[\u001b[38;5;124m'\u001b[39m\u001b[38;5;124mphone\u001b[39m\u001b[38;5;124m'\u001b[39m]\n",
      "\u001b[1;31mKeyError\u001b[0m: 'phone'"
     ]
    }
   ],
   "source": [
    "#일반인덱싱\n",
    "dic['name']\n",
    "dic['phone'] # 없는 키값을 지정할 경우 error발생"
   ]
  },
  {
   "cell_type": "code",
   "execution_count": 14,
   "id": "a5d5882e",
   "metadata": {},
   "outputs": [
    {
     "name": "stdout",
     "output_type": "stream",
     "text": [
      "BG\n",
      "None\n"
     ]
    }
   ],
   "source": [
    "#get함수를 활용한 인덱싱\n",
    "print(dic.get('name'))\n",
    "print(dic.get('phone')) #없는 키값을 지정할 경우 error 발생하지 않음 -> None\n",
    "\n",
    "#get()는 try-except 문을 포함하고 있기 때문에\n",
    "#없는 키값을 지정한 경우에 None값을 반환시켜줌!"
   ]
  },
  {
   "cell_type": "markdown",
   "id": "c1dc8436",
   "metadata": {},
   "source": [
    "###  딕셔너리 기타 함수 및 for문 활용"
   ]
  },
  {
   "cell_type": "code",
   "execution_count": 15,
   "id": "4e28442c",
   "metadata": {},
   "outputs": [
    {
     "data": {
      "text/plain": [
       "dict_keys(['name', 'age', 'birth'])"
      ]
     },
     "execution_count": 15,
     "metadata": {},
     "output_type": "execute_result"
    }
   ],
   "source": [
    "#딕셔러니 key 값만 가져오기!\n",
    "dic.keys()"
   ]
  },
  {
   "cell_type": "code",
   "execution_count": null,
   "id": "c53e4af1",
   "metadata": {},
   "outputs": [],
   "source": [
    "#인덱싱 불가"
   ]
  },
  {
   "cell_type": "code",
   "execution_count": 16,
   "id": "c6ccc230",
   "metadata": {},
   "outputs": [
    {
     "data": {
      "text/plain": [
       "dict_keys"
      ]
     },
     "execution_count": 16,
     "metadata": {},
     "output_type": "execute_result"
    }
   ],
   "source": [
    "# 딕셔너리는 순서가 없다 → 인덱스가 없다\n",
    "type(dic.keys())"
   ]
  },
  {
   "cell_type": "code",
   "execution_count": 17,
   "id": "0749726e",
   "metadata": {},
   "outputs": [
    {
     "data": {
      "text/plain": [
       "['name', 'age', 'birth']"
      ]
     },
     "execution_count": 17,
     "metadata": {},
     "output_type": "execute_result"
    }
   ],
   "source": [
    "#인덱싱 하고자 하면 list로 형변환\n",
    "list_dic_keys = list(dic.keys())\n",
    "list_dic_keys"
   ]
  },
  {
   "cell_type": "code",
   "execution_count": 20,
   "id": "0847f734",
   "metadata": {},
   "outputs": [
    {
     "data": {
      "text/plain": [
       "'name'"
      ]
     },
     "execution_count": 20,
     "metadata": {},
     "output_type": "execute_result"
    }
   ],
   "source": [
    "list_dic_keys[0]"
   ]
  },
  {
   "cell_type": "code",
   "execution_count": 23,
   "id": "df13de57",
   "metadata": {},
   "outputs": [
    {
     "data": {
      "text/plain": [
       "'BG'"
      ]
     },
     "execution_count": 23,
     "metadata": {},
     "output_type": "execute_result"
    }
   ],
   "source": [
    "#딕셔너리에서 value값들만 가져오기\n",
    "list_dic_values = list(dic.values())\n",
    "list_dic_values[0]"
   ]
  },
  {
   "cell_type": "code",
   "execution_count": 30,
   "id": "32e906cc",
   "metadata": {},
   "outputs": [
    {
     "data": {
      "text/plain": [
       "[('name', 'BG'), ('age', 21), ('birth', '01/01')]"
      ]
     },
     "execution_count": 30,
     "metadata": {},
     "output_type": "execute_result"
    }
   ],
   "source": [
    "#딕셔너리에서 key와 value 둘다 가져오기\n",
    "list_dic_items = list(dic.items())\n",
    "list_dic_items"
   ]
  },
  {
   "cell_type": "code",
   "execution_count": 35,
   "id": "9eec2d30",
   "metadata": {},
   "outputs": [
    {
     "data": {
      "text/plain": [
       "'m'"
      ]
     },
     "execution_count": 35,
     "metadata": {},
     "output_type": "execute_result"
    }
   ],
   "source": [
    "list_dic_items[0][0][2]"
   ]
  },
  {
   "cell_type": "code",
   "execution_count": 41,
   "id": "ff5afbae",
   "metadata": {},
   "outputs": [
    {
     "name": "stdout",
     "output_type": "stream",
     "text": [
      "name\n",
      "BG\n",
      "age\n",
      "21\n",
      "birth\n",
      "01/01\n"
     ]
    }
   ],
   "source": [
    "#딕셔너리 for문\n",
    "for key, value in dic.items():\n",
    "    print(key)\n",
    "    print(value)"
   ]
  },
  {
   "cell_type": "code",
   "execution_count": 46,
   "id": "c2e9bb9a",
   "metadata": {},
   "outputs": [
    {
     "name": "stdout",
     "output_type": "stream",
     "text": [
      "True\n",
      "True\n"
     ]
    }
   ],
   "source": [
    "#딕셔너리 in 키워드\n",
    "#in(멤버 연산자) → 들어있는지 True/False\n",
    "print('name' in dic) #key값에 대해서만 활용 가능\n",
    "print('BG' in dic.values()) #values 값에 대해서 멤버연산자 활용"
   ]
  },
  {
   "cell_type": "code",
   "execution_count": 47,
   "id": "276479be",
   "metadata": {},
   "outputs": [
    {
     "data": {
      "text/plain": [
       "{'이름': ['강예진', '김민수', '주미리', '양세영', '조자연'],\n",
       " 'Python': [90, 100, 85, 90, 80],\n",
       " 'Java': [85, 80, 100, 95, 85],\n",
       " 'html/css': [75, 70, 90, 80, 90]}"
      ]
     },
     "execution_count": 47,
     "metadata": {},
     "output_type": "execute_result"
    }
   ],
   "source": [
    "score_dict = {'이름':['강예진','김민수','주미리','양세영','조자연'],\n",
    "        'Python':[90,100,85,90,80],\n",
    "        'Java':[85,80,100,95,85],\n",
    "        'html/css':[75,70,90,80,90]}\n",
    "score_dict"
   ]
  },
  {
   "cell_type": "code",
   "execution_count": 74,
   "id": "3b8fb609",
   "metadata": {},
   "outputs": [
    {
     "name": "stdout",
     "output_type": "stream",
     "text": [
      "89.0\n"
     ]
    }
   ],
   "source": [
    "#파이썬 평균\n",
    "py_avg = sum(score_dict['Python']) / len(score_dict['Python'])\n",
    "\n",
    "print(py_avg)    "
   ]
  },
  {
   "cell_type": "code",
   "execution_count": 78,
   "id": "873abafd",
   "metadata": {},
   "outputs": [
    {
     "name": "stdout",
     "output_type": "stream",
     "text": [
      "Python의 평균: 89.0\n",
      "Java의 평균: 89.0\n",
      "html/css의 평균: 81.0\n"
     ]
    }
   ],
   "source": [
    "#각 과목 평균\n",
    "\n",
    "for key in score_dict.keys():\n",
    "    if key == 'Python':\n",
    "        py_avg = sum(score_dict[key]) / len(score_dict[key])\n",
    "    elif key == 'Java':\n",
    "        j_avg = sum(score_dict[key]) / len(score_dict[key])\n",
    "    elif key == 'html/css':\n",
    "        h_avg = sum(score_dict[key]) / len(score_dict[key])\n",
    "        \n",
    "print(f\"Python의 평균: {py_avg}\")\n",
    "print(f\"Java의 평균: {j_avg}\")\n",
    "print(f\"html/css의 평균: {h_avg}\")        "
   ]
  },
  {
   "cell_type": "code",
   "execution_count": 82,
   "id": "8490d331",
   "metadata": {},
   "outputs": [
    {
     "name": "stdout",
     "output_type": "stream",
     "text": [
      "Python의 평균: 89.0\n",
      "Java의 평균: 89.0\n",
      "html/css의 평균: 81.0\n"
     ]
    }
   ],
   "source": [
    "for key in list(score_dict.keys())[1:]: #\"이름\"컬럼은 불필요하기 때문\n",
    "    avg = sum(score_dict[key]) / len(score_dict[key])\n",
    "    print(f\"{key}의 평균: {avg}\") "
   ]
  }
 ],
 "metadata": {
  "kernelspec": {
   "display_name": "Python 3 (ipykernel)",
   "language": "python",
   "name": "python3"
  },
  "language_info": {
   "codemirror_mode": {
    "name": "ipython",
    "version": 3
   },
   "file_extension": ".py",
   "mimetype": "text/x-python",
   "name": "python",
   "nbconvert_exporter": "python",
   "pygments_lexer": "ipython3",
   "version": "3.11.5"
  }
 },
 "nbformat": 4,
 "nbformat_minor": 5
}
