{
 "cells": [
  {
   "cell_type": "markdown",
   "id": "ac4e3844",
   "metadata": {},
   "source": [
    "### 조건문\n",
    "- 상황에 따라 실행 흐름을 다르게 하는 문법\n",
    "- 키워드: if, elif, else\n",
    "- ※콜론(:)과 들여쓰기(space bar*4, tab)문법이 매우 중요!"
   ]
  },
  {
   "cell_type": "code",
   "execution_count": 3,
   "id": "a4d5e64e",
   "metadata": {},
   "outputs": [
    {
     "name": "stdout",
     "output_type": "stream",
     "text": [
      "갖고 있는 돈을 입력하세요>>4900\n",
      "걸어간다\n"
     ]
    }
   ],
   "source": [
    "money = int(input(\"갖고 있는 돈을 입력하세요>>\"))\n",
    "\n",
    "if money >=10000 :\n",
    "    print(\"택시를 탄다\")\n",
    "elif money >=5000 :\n",
    "    print(\"버스를 탄다\")\n",
    "else :\n",
    "    print(\"걸어간다\")"
   ]
  },
  {
   "cell_type": "code",
   "execution_count": 5,
   "id": "b7bc9345",
   "metadata": {},
   "outputs": [
    {
     "name": "stdout",
     "output_type": "stream",
     "text": [
      "첫 번째 정수 입력>> 7\n",
      "두 번째 정수 입력>> 7\n",
      "두 수가 똑같습니다.\n"
     ]
    }
   ],
   "source": [
    "num1 =int(input(\"첫 번째 정수 입력 >> \")) \n",
    "num2 =int(input(\"두 번째 정수 입력 >> \"))\n",
    "\n",
    "if num1>num2:\n",
    "    print(\"첫번째 정수가 더 큽니다.\")\n",
    "elif num1<num2:\n",
    "    print(\"두번째 정수가 더 큽니다.\")\n",
    "else :\n",
    "    print(\"두 수가 똑같습니다.\")"
   ]
  },
  {
   "cell_type": "code",
   "execution_count": 8,
   "id": "10083304",
   "metadata": {},
   "outputs": [
    {
     "name": "stdout",
     "output_type": "stream",
     "text": [
      "점수 입력 >> 59\n",
      "59점은 F학점입니다!\n"
     ]
    }
   ],
   "source": [
    "score = int(input(\"점수 입력 >> \"))\n",
    "\n",
    "if score <= 100 and score >= 0 :\n",
    "    if score >= 90 :\n",
    "        grade = 'A'\n",
    "    elif score >= 80 :\n",
    "        grade = 'B'\n",
    "    elif score >= 70 :\n",
    "        grade = 'C'\n",
    "    elif score >= 60 :\n",
    "        grade = 'D'\n",
    "    else :\n",
    "        grade = 'F'\n",
    "    print(f\"{score}점은 {grade}학점입니다!\")    \n",
    "else:\n",
    "    print(\"잘못입력 하셨습니다.\")"
   ]
  },
  {
   "cell_type": "code",
   "execution_count": null,
   "id": "2cd3a519",
   "metadata": {},
   "outputs": [],
   "source": []
  },
  {
   "cell_type": "code",
   "execution_count": null,
   "id": "7edc5e4b",
   "metadata": {},
   "outputs": [],
   "source": []
  },
  {
   "cell_type": "code",
   "execution_count": null,
   "id": "035cc7b5",
   "metadata": {},
   "outputs": [],
   "source": []
  },
  {
   "cell_type": "code",
   "execution_count": null,
   "id": "839a43cc",
   "metadata": {},
   "outputs": [],
   "source": []
  }
 ],
 "metadata": {
  "kernelspec": {
   "display_name": "Python 3 (ipykernel)",
   "language": "python",
   "name": "python3"
  },
  "language_info": {
   "codemirror_mode": {
    "name": "ipython",
    "version": 3
   },
   "file_extension": ".py",
   "mimetype": "text/x-python",
   "name": "python",
   "nbconvert_exporter": "python",
   "pygments_lexer": "ipython3",
   "version": "3.11.5"
  }
 },
 "nbformat": 4,
 "nbformat_minor": 5
}
