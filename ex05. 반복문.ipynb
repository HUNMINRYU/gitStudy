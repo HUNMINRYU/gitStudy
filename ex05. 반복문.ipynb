{
 "cells": [
  {
   "cell_type": "markdown",
   "id": "f362710c",
   "metadata": {},
   "source": [
    "## 반복문(while문, for문)\n",
    "- 프로그램 내에서 똑같은 명령을 일정 횟수만큼 반복하여 수행하도록 제어문\n",
    "- while문 : 반복횟수가 명확하지 않을 때\n",
    "- for문   : 반복횟수가 명확할 때"
   ]
  },
  {
   "cell_type": "markdown",
   "id": "679299cc",
   "metadata": {},
   "source": [
    "### 1.while문"
   ]
  },
  {
   "cell_type": "code",
   "execution_count": 2,
   "id": "82082fbf",
   "metadata": {
    "collapsed": true
   },
   "outputs": [
    {
     "name": "stdout",
     "output_type": "stream",
     "text": [
      "파이썬 최고!\n",
      "파이썬 최고!\n",
      "파이썬 최고!\n",
      "파이썬 최고!\n",
      "파이썬 최고!\n",
      "파이썬 최고!\n",
      "파이썬 최고!\n",
      "파이썬 최고!\n",
      "파이썬 최고!\n",
      "파이썬 최고!\n",
      "파이썬 최고!\n",
      "파이썬 최고!\n",
      "파이썬 최고!\n"
     ]
    }
   ],
   "source": [
    "#while문을 사용해서 \"파이썬 최고!\"를 13번 출력\n",
    "#조건식이 True인 경우 코드블록 수행, False일때 반복문 탈출!\n",
    "cnt = 1\n",
    "while cnt <= 13 :\n",
    "    print('파이썬 최고!')\n",
    "    cnt += 1"
   ]
  },
  {
   "cell_type": "code",
   "execution_count": 3,
   "id": "1c168245",
   "metadata": {},
   "outputs": [
    {
     "name": "stdout",
     "output_type": "stream",
     "text": [
      "무한루프\n"
     ]
    }
   ],
   "source": [
    "#반복문 - break문 → 반복문을 나가는 기능\n",
    "while True :\n",
    "    print(\"무한루프\")\n",
    "    break"
   ]
  },
  {
   "cell_type": "code",
   "execution_count": null,
   "id": "16f5f67f",
   "metadata": {},
   "outputs": [],
   "source": [
    "#while문 예제\n",
    "#두 개의 정수를 입력받아서 합을 구하되, 두 수가 0과 0일 때는 반복문 종료"
   ]
  },
  {
   "cell_type": "markdown",
   "id": "ec3d1150",
   "metadata": {},
   "source": [
    "### 2.for문"
   ]
  },
  {
   "cell_type": "code",
   "execution_count": 9,
   "id": "496f8d2e",
   "metadata": {},
   "outputs": [
    {
     "name": "stdout",
     "output_type": "stream",
     "text": [
      "안\n",
      "녕\n",
      "하\n",
      "세\n",
      "요\n"
     ]
    }
   ],
   "source": [
    "#for 지역변수 in (시퀀스 자료구조) :\n",
    "#     코드블럭\n",
    "\n",
    "hi = \"안녕하세요\"\n",
    "for a in hi:\n",
    "    print(a)"
   ]
  },
  {
   "cell_type": "code",
   "execution_count": 17,
   "id": "512bb212",
   "metadata": {},
   "outputs": [
    {
     "name": "stdout",
     "output_type": "stream",
     "text": [
      "1번 학생은 합격입니다\n",
      "2번 학생은 불합격입니다\n",
      "3번 학생은 합격입니다\n",
      "4번 학생은 합격입니다\n",
      "5번 학생은 불합격입니다\n"
     ]
    }
   ],
   "source": [
    "#for문 예제\n",
    "#5명에 대한 정보처리(산업)기사 점수가 담겨져 있는 리스트\n",
    "score_list = [90, 45, 70, 60, 55]\n",
    "\n",
    "#합격점수: 60점 이상\n",
    "#이때, 각 점수에 대해서 합격인지, 불합격인지 판별해서 출력하라!\n",
    "cnt = 1\n",
    "for score in score_list:\n",
    "        \n",
    "    if score >= 60:\n",
    "        print(f\"{cnt}번 학생은 합격입니다\")\n",
    "        \n",
    "    else:\n",
    "        print(f\"{cnt}번 학생은 불합격입니다\")\n",
    "    cnt += 1"
   ]
  },
  {
   "cell_type": "markdown",
   "id": "d0eaafc0",
   "metadata": {},
   "source": [
    "#### ※ 2-1. range() ※\n",
    "- 필요한 만큼의 숫자를 만들어내는 함수(기능)\n",
    "- range({시작값, }끝값{, 스탭(보폭)}) {} : 생략가능"
   ]
  },
  {
   "cell_type": "code",
   "execution_count": 18,
   "id": "346a12e4",
   "metadata": {
    "collapsed": true
   },
   "outputs": [
    {
     "name": "stdout",
     "output_type": "stream",
     "text": [
      "1\n",
      "2\n",
      "3\n",
      "4\n",
      "5\n",
      "6\n",
      "7\n",
      "8\n",
      "9\n"
     ]
    }
   ],
   "source": [
    "#range()도 슬라이싱과 유사하게 끝값을 포함하지 않는다!\n",
    "for i in range(1,10,1) :\n",
    "    print(i)"
   ]
  },
  {
   "cell_type": "code",
   "execution_count": 22,
   "id": "8b9cddd7",
   "metadata": {},
   "outputs": [
    {
     "name": "stdout",
     "output_type": "stream",
     "text": [
      "0, 1, 2, 3, 4, 5, 6, 7, 8, 9, "
     ]
    }
   ],
   "source": [
    "#함수사용법 확인하기 => 매개변수 자리에 커서올리고 shift + tab\n",
    "for i in range(10) :\n",
    "    print(i, end = ', ')"
   ]
  },
  {
   "cell_type": "code",
   "execution_count": 23,
   "id": "39147a5f",
   "metadata": {},
   "outputs": [
    {
     "name": "stdout",
     "output_type": "stream",
     "text": [
      "9, 8, 7, 6, 5, 4, 3, 2, 1, 0, "
     ]
    }
   ],
   "source": [
    "for i in range(9,-1,-1) :\n",
    "    print(i, end = ', ')"
   ]
  },
  {
   "cell_type": "code",
   "execution_count": 26,
   "id": "ffdcbf05",
   "metadata": {},
   "outputs": [
    {
     "name": "stdout",
     "output_type": "stream",
     "text": [
      "97 96 95 94 93 92 91 90 89 88 87 86 85 84 83 82 81 80 79 78 77 "
     ]
    }
   ],
   "source": [
    "#for문을 이용하여 97부터 77까지 출력\n",
    "for i in range(97,76,-1):\n",
    "    print(i, end = ' ')"
   ]
  },
  {
   "cell_type": "code",
   "execution_count": 27,
   "id": "42b37646",
   "metadata": {},
   "outputs": [
    {
     "name": "stdout",
     "output_type": "stream",
     "text": [
      "23 24 25 26 27 28 29 30 31 32 33 34 35 36 37 38 39 "
     ]
    }
   ],
   "source": [
    "#for문을 이용하여 23부터 39까지 출력\n",
    "for i in range(23,40):\n",
    "    print(i, end = \" \")"
   ]
  },
  {
   "cell_type": "code",
   "execution_count": 15,
   "id": "d729eac3",
   "metadata": {},
   "outputs": [
    {
     "name": "stdout",
     "output_type": "stream",
     "text": [
      "1683\n"
     ]
    }
   ],
   "source": [
    "#1부터 100사이의 숫자중 3의 배수인 값들의 합\n",
    "sum1 = 0\n",
    "for result in range(101):\n",
    "    if result%3==0:\n",
    "        sum1 += result\n",
    "print(sum1)"
   ]
  },
  {
   "cell_type": "code",
   "execution_count": 21,
   "id": "98bf154a",
   "metadata": {},
   "outputs": [
    {
     "name": "stdout",
     "output_type": "stream",
     "text": [
      "2*1=2\t2*2=4\t2*3=6\t2*4=8\t2*5=10\t2*6=12\t2*7=14\t2*8=16\t2*9=18\t\n",
      "3*1=3\t3*2=6\t3*3=9\t3*4=12\t3*5=15\t3*6=18\t3*7=21\t3*8=24\t3*9=27\t\n",
      "4*1=4\t4*2=8\t4*3=12\t4*4=16\t4*5=20\t4*6=24\t4*7=28\t4*8=32\t4*9=36\t\n",
      "5*1=5\t5*2=10\t5*3=15\t5*4=20\t5*5=25\t5*6=30\t5*7=35\t5*8=40\t5*9=45\t\n",
      "6*1=6\t6*2=12\t6*3=18\t6*4=24\t6*5=30\t6*6=36\t6*7=42\t6*8=48\t6*9=54\t\n",
      "7*1=7\t7*2=14\t7*3=21\t7*4=28\t7*5=35\t7*6=42\t7*7=49\t7*8=56\t7*9=63\t\n",
      "8*1=8\t8*2=16\t8*3=24\t8*4=32\t8*5=40\t8*6=48\t8*7=56\t8*8=64\t8*9=72\t\n",
      "9*1=9\t9*2=18\t9*3=27\t9*4=36\t9*5=45\t9*6=54\t9*7=63\t9*8=72\t9*9=81\t\n"
     ]
    }
   ],
   "source": [
    "#구구단 2단 출력(for문 사용)\n",
    "\n",
    "for dan in range(2,10):\n",
    "    for i in range(1,10):\n",
    "        print(f\"{dan}*{i}={dan*i}\", end=\"\\t\")\n",
    "    print()\n",
    "    "
   ]
  },
  {
   "cell_type": "code",
   "execution_count": 22,
   "id": "03f5c56f",
   "metadata": {},
   "outputs": [
    {
     "name": "stdout",
     "output_type": "stream",
     "text": [
      "3 9\n"
     ]
    }
   ],
   "source": [
    "A = 3\n",
    "B = 9\n",
    "print(A,B)"
   ]
  },
  {
   "cell_type": "code",
   "execution_count": 23,
   "id": "6dfbfada",
   "metadata": {},
   "outputs": [
    {
     "name": "stdout",
     "output_type": "stream",
     "text": [
      "9 3\n"
     ]
    }
   ],
   "source": [
    "temp = A\n",
    "A = B\n",
    "B = temp\n",
    "print(A, B)"
   ]
  },
  {
   "cell_type": "code",
   "execution_count": 26,
   "id": "4c3a4cf8",
   "metadata": {},
   "outputs": [
    {
     "name": "stdout",
     "output_type": "stream",
     "text": [
      "3 9\n"
     ]
    }
   ],
   "source": [
    "#치환 - 파이썬에서는 빈공간(temp)필요 없음~\n",
    "A, B = B, A\n",
    "print(A, B)"
   ]
  },
  {
   "cell_type": "code",
   "execution_count": 42,
   "id": "0c6f476d",
   "metadata": {},
   "outputs": [
    {
     "name": "stdout",
     "output_type": "stream",
     "text": [
      "99\n"
     ]
    }
   ],
   "source": [
    "#for문 마지막 문제!\n",
    "\n",
    "#for문을 활용해 요소중 가장 큰수를 찾기\n",
    "list1 = [4,5,2,1,99,15,2,7,27]\n",
    "# index = 1\n",
    "\n",
    "# for i in list1:\n",
    "#     if i < list1[index]:\n",
    "#         i = list1[index]\n",
    "#         index+=1\n",
    "# print(i)\n",
    "\n",
    "max1 = list1[0]\n",
    "\n",
    "#시퀀스 자료구조의 딘덱스 번호 생성: range(len(시퀀스 자료))\n",
    "for i in range(len(list1)):\n",
    "    if max1 <= list1[i]:\n",
    "        max1 = list1[i]\n",
    "print(max1)"
   ]
  },
  {
   "cell_type": "code",
   "execution_count": null,
   "id": "9be735c0",
   "metadata": {},
   "outputs": [],
   "source": []
  },
  {
   "cell_type": "code",
   "execution_count": null,
   "id": "1989a0cd",
   "metadata": {},
   "outputs": [],
   "source": []
  },
  {
   "cell_type": "code",
   "execution_count": null,
   "id": "33b34220",
   "metadata": {},
   "outputs": [],
   "source": []
  },
  {
   "cell_type": "code",
   "execution_count": null,
   "id": "17e9da23",
   "metadata": {},
   "outputs": [],
   "source": []
  },
  {
   "cell_type": "code",
   "execution_count": null,
   "id": "442b3ad0",
   "metadata": {},
   "outputs": [],
   "source": []
  },
  {
   "cell_type": "code",
   "execution_count": null,
   "id": "010b839a",
   "metadata": {},
   "outputs": [],
   "source": []
  },
  {
   "cell_type": "code",
   "execution_count": null,
   "id": "5e3c2090",
   "metadata": {},
   "outputs": [],
   "source": []
  },
  {
   "cell_type": "code",
   "execution_count": null,
   "id": "d93f2943",
   "metadata": {},
   "outputs": [],
   "source": []
  },
  {
   "cell_type": "code",
   "execution_count": null,
   "id": "1967886a",
   "metadata": {},
   "outputs": [],
   "source": []
  },
  {
   "cell_type": "code",
   "execution_count": null,
   "id": "a9917bb5",
   "metadata": {},
   "outputs": [],
   "source": []
  },
  {
   "cell_type": "code",
   "execution_count": null,
   "id": "bb454623",
   "metadata": {},
   "outputs": [],
   "source": []
  }
 ],
 "metadata": {
  "kernelspec": {
   "display_name": "Python 3 (ipykernel)",
   "language": "python",
   "name": "python3"
  },
  "language_info": {
   "codemirror_mode": {
    "name": "ipython",
    "version": 3
   },
   "file_extension": ".py",
   "mimetype": "text/x-python",
   "name": "python",
   "nbconvert_exporter": "python",
   "pygments_lexer": "ipython3",
   "version": "3.11.5"
  }
 },
 "nbformat": 4,
 "nbformat_minor": 5
}
